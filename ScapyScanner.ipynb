{
  "nbformat": 4,
  "nbformat_minor": 0,
  "metadata": {
    "colab": {
      "provenance": []
    },
    "kernelspec": {
      "name": "python3",
      "display_name": "Python 3"
    },
    "language_info": {
      "name": "python"
    }
  },
  "cells": [
    {
      "cell_type": "code",
      "source": [
        "!pip install scapy"
      ],
      "metadata": {
        "colab": {
          "base_uri": "https://localhost:8080/"
        },
        "id": "wHoIoCXWXXTa",
        "outputId": "8804b8e1-d39d-4f51-ae02-e0d215bb4d36"
      },
      "execution_count": 4,
      "outputs": [
        {
          "output_type": "stream",
          "name": "stdout",
          "text": [
            "Requirement already satisfied: scapy in /usr/local/lib/python3.11/dist-packages (2.6.1)\n"
          ]
        }
      ]
    },
    {
      "cell_type": "code",
      "execution_count": 5,
      "metadata": {
        "id": "XjIHxJ7LXKdZ"
      },
      "outputs": [],
      "source": [
        "import scapy.all as scapy\n",
        "import csv"
      ]
    },
    {
      "cell_type": "code",
      "source": [
        "def capture_packets(duration=5):\n",
        "    packets = scapy.sniff(timeout=duration)\n",
        "    return packets\n",
        "\n",
        "'''\n",
        "for packet in packets:\n",
        "    packet.show()\n",
        "'''\n",
        "\n",
        "def extract_features(packet):\n",
        "\n",
        "    features = {}\n",
        "    features.update({\n",
        "        \"src_ip\": packet[scapy.IP].src if scapy.IP in packet else None,\n",
        "        \"dest_ip\": packet[scapy.IP].dst if scapy.IP in packet else None,\n",
        "        \"src_mac\": packet[scapy.Ether].src if scapy.Ether in packet else None,\n",
        "        \"dest_mac\": packet[scapy.Ether].dst if scapy.Ether in packet else None,\n",
        "\n",
        "        \"src_port\": (\n",
        "            packet[scapy.TCP].sport if scapy.TCP in packet\n",
        "            else packet[scapy.UDP].sport if scapy.UDP in packet\n",
        "            else None),\n",
        "        \"dest_port\": (\n",
        "            packet[scapy.TCP].dport if scapy.TCP in packet\n",
        "            else packet[scapy.UDP].dport if scapy.UDP in packet\n",
        "            else None),\n",
        "\n",
        "        \"tcp_flags\": packet[scapy.TCP].flags if scapy.TCP in packet else None,\n",
        "        \"udp_checksum\": packet[scapy.UDP].chksum if scapy.UDP in packet else None,\n",
        "        \"packet_size\": len(packet),\n",
        "        \"protocol\": packet[scapy.IP].proto if scapy.IP in packet else None\n",
        "    })\n",
        "\n",
        "    return features\n",
        "\n",
        "def save_to_csv(packets, file_name=\"network_logs.csv\"):\n",
        "    with open(file_name, \"w\", newline=\"\") as file:\n",
        "        writer = csv.writer(file)\n",
        "        writer.writerow(packets[0].keys())\n",
        "        for packet in packets:\n",
        "            writer.writerow(packet.values())\n",
        "\n",
        "packets = capture_packets(duration=5)\n",
        "print(f\"Captured {len(packets)} packets\")\n",
        "processed_packets = [extract_features(packet) for packet in packets]\n",
        "save_to_csv(processed_packets)\n"
      ],
      "metadata": {
        "colab": {
          "base_uri": "https://localhost:8080/"
        },
        "id": "O7YHyTckXOJT",
        "outputId": "9c300d6b-26a0-4484-fa5d-7749b3bd2072"
      },
      "execution_count": 8,
      "outputs": [
        {
          "output_type": "stream",
          "name": "stdout",
          "text": [
            "Captured 27 packets\n"
          ]
        }
      ]
    }
  ]
}