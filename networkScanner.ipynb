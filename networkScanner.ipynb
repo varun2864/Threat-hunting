{
  "cells": [
    {
      "cell_type": "code",
      "execution_count": null,
      "metadata": {
        "id": "-47yVeRzHlfF"
      },
      "outputs": [],
      "source": [
        "import socket as so\n",
        "import time\n",
        "import struct\n",
        "import csv"
      ]
    },
    {
      "cell_type": "code",
      "execution_count": null,
      "metadata": {
        "id": "i4V9ZNlTH42P",
        "collapsed": true
      },
      "outputs": [],
      "source": [
        "def capture_packets(duration = 5):\n",
        "  raw_socket = so.socket(so.AF_PACKET, so.SOCK_RAW, so.ntohs(3))\n",
        "\n",
        "  start_time = time.time()\n",
        "  packets = []\n",
        "\n",
        "  while (time.time() - start_time < duration):\n",
        "      raw_data, _ = raw_socket.recvfrom(65535)\n",
        "      packet = extract_features(raw_data)\n",
        "      packets.append(packet)\n",
        "\n",
        "  return packets"
      ]
    },
    {
      "cell_type": "code",
      "source": [
        "def extract_features(data):\n",
        "  '''\n",
        "  eth_header = struct.unpack(\"!6s6sH\", data[:14])\n",
        "  dest_mac = \":\".join(f\"{b:02x}\" for b in eth_header[0])\n",
        "  src_mac = \":\".join(f\"{b:02x}\" for b in eth_header[1])\n",
        "\n",
        "  protocol = eth_header[2]\n",
        "  '''\n",
        "  eth_header = data[:14]\n",
        "  dest_mac = \":\".join(f\"{b:02x}\" for b in eth_header[0:6])\n",
        "  src_mac = \":\".join(f\"{b:02x}\" for b in eth_header[6:12])\n",
        "  protocol = int.from_bytes(eth_header[12:14], byteorder = \"big\")\n",
        "\n",
        "  ip_header = data[14:34]\n",
        "  src_ip = \".\".join(map(str, ip_header[12:16]))\n",
        "  dest_ip = \".\".join(map(str, ip_header[16:20]))\n",
        "\n",
        "  tcp_header = data[34:54]\n",
        "  src_port = int.from_bytes(tcp_header[0:2], byteorder='big')\n",
        "  dest_port = int.from_bytes(tcp_header[2:4], byteorder='big')\n",
        "  tcp_flags = int.from_bytes(tcp_header[12:14], byteorder='big')\n",
        "\n",
        "  return{\n",
        "      \"src_ip\": src_ip,\n",
        "      \"dest_ip\": dest_ip,\n",
        "      \"src_mac\": src_mac,\n",
        "      \"dest_mac\": dest_mac,\n",
        "      \"src_port\": src_port,\n",
        "      \"dest_port\": dest_port,\n",
        "      \"tcp_flags\": tcp_flags,\n",
        "      \"packet_size\": len(data),\n",
        "      \"protocol\": protocol\n",
        "  }"
      ],
      "metadata": {
        "id": "V8LeQEXbK-N9"
      },
      "execution_count": null,
      "outputs": []
    },
    {
      "cell_type": "code",
      "source": [
        "def save_to_csv(packets, file_name = \"network_logs.csv\"):\n",
        "  with open(file_name, \"w\", newline = \"\") as file:\n",
        "    writer = csv.writer(file)\n",
        "    writer.writerow(packets[0].keys())\n",
        "    for packet in packets:\n",
        "      writer.writerow(packet.values())"
      ],
      "metadata": {
        "id": "6XMzqsS3La69"
      },
      "execution_count": null,
      "outputs": []
    },
    {
      "cell_type": "code",
      "source": [
        "packets = capture_packets(duration=5)\n",
        "print(f\"Captured {len(packets)} packets\")\n",
        "save_to_csv(packets)"
      ],
      "metadata": {
        "id": "OZx1Cc5ZQvG-"
      },
      "execution_count": null,
      "outputs": []
    }
  ],
  "metadata": {
    "colab": {
      "provenance": []
    },
    "kernelspec": {
      "display_name": "Python 3",
      "name": "python3"
    },
    "language_info": {
      "name": "python"
    }
  },
  "nbformat": 4,
  "nbformat_minor": 0
}